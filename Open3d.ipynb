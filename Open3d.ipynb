{
 "cells": [
  {
   "cell_type": "code",
   "execution_count": 12,
   "id": "7d92a778-5a1d-4f57-91bf-05e50edf43f8",
   "metadata": {},
   "outputs": [
    {
     "name": "stdout",
     "output_type": "stream",
     "text": [
      "[Open3D WARNING] Read PTS: only points and colors attributes are supported.\n",
      "The minimum distance between the two planes is: 2.286944794278593 units\n"
     ]
    },
    {
     "data": {
      "text/plain": [
       "True"
      ]
     },
     "execution_count": 12,
     "metadata": {},
     "output_type": "execute_result"
    }
   ],
   "source": [
    "import open3d as o3d\n",
    "import numpy as np\n",
    "\n",
    "def calculate_distance(plane1, plane2):\n",
    "    # 두 평면 사이의 거리를 계산합니다.\n",
    "    norm = np.linalg.norm(np.array(plane1[:3]))  # 평면의 법선 벡터 크기 계산\n",
    "    distance = abs(plane2[3] - plane1[3]) / norm  # 두 평면 사이의 거리 계산\n",
    "    return distance\n",
    "\n",
    "# 포인트 클라우드 데이터를 로드합니다.\n",
    "pcd = o3d.io.read_point_cloud(\"C:/Users/rjhyu/파이썬 연습/2024 new/230727_20mm_45,60 1.pts\")\n",
    "\n",
    "# RANSAC을 사용하여 첫 번째 평면을 찾습니다.\n",
    "plane1_model, inliers1 = pcd.segment_plane(distance_threshold=0.01, ransac_n=3, num_iterations=1000)\n",
    "inlier_cloud1 = pcd.select_by_index(inliers1)\n",
    "\n",
    "# 첫 번째 평면의 인라이어를 제거합니다.\n",
    "outlier_cloud = pcd.select_by_index(inliers1, invert=True)\n",
    "\n",
    "# RANSAC을 사용하여 두 번째 평면을 찾습니다.\n",
    "plane2_model, inliers2 = outlier_cloud.segment_plane(distance_threshold=0.01, ransac_n=3, num_iterations=1000)\n",
    "inlier_cloud2 = outlier_cloud.select_by_index(inliers2)\n",
    "\n",
    "# 두 평면 사이의 최소 거리를 계산합니다.\n",
    "distance = calculate_distance(plane1_model, plane2_model)\n",
    "print(f\"The minimum distance between the two planes is: {distance} units\")\n",
    "\n",
    "# 시각화\n",
    "inlier_cloud1.paint_uniform_color([1.0, 0, 0])  # 첫 번째 평면은 빨간색\n",
    "inlier_cloud2.paint_uniform_color([0, 1.0, 0])  # 두 번째 평면은 초록색\n",
    "o3d.visualization.draw_geometries([inlier_cloud1, inlier_cloud2])\n",
    "\n",
    "# 계산된 거리와 포인트 클라우드를 저장할 파일의 경로를 설정합니다.\n",
    "distance_file_path = \"C:/Users/rjhyu/파이썬 연습/2024 new/calculated_distance.txt\"\n",
    "inlier_cloud1_path = \"C:/Users/rjhyu/파이썬 연습/2024 new/inlier_cloud1.pts\"\n",
    "inlier_cloud2_path = \"C:/Users/rjhyu/파이썬 연습/2024 new/inlier_cloud2.pts\"\n",
    "\n",
    "# 계산된 거리를 텍스트 파일로 저장합니다.\n",
    "with open(distance_file_path, \"w\") as file:\n",
    "    file.write(f\"The minimum distance between the two planes is: {distance} units\\n\")\n",
    "\n",
    "# 포인트 클라우드(inliers)를 파일로 저장합니다.\n",
    "o3d.io.write_point_cloud(inlier_cloud1_path, inlier_cloud1)\n",
    "o3d.io.write_point_cloud(inlier_cloud2_path, inlier_cloud2)\n"
   ]
  },
  {
   "cell_type": "code",
   "execution_count": 1,
   "id": "4a641926-a204-4e61-943b-0d6f28d8c649",
   "metadata": {
    "tags": []
   },
   "outputs": [
    {
     "name": "stdout",
     "output_type": "stream",
     "text": [
      "이격 거리: 1.0000365609845399\n"
     ]
    }
   ],
   "source": [
    "# 필요한 라이브러리를 불러옵니다\n",
    "import numpy as np\n",
    "from sklearn.cluster import DBSCAN\n",
    "from sklearn.linear_model import RANSACRegressor\n",
    "\n",
    "# 데이터를 불러옵니다\n",
    "points = np.loadtxt(\"C:/Users/rjhyu/파이썬 연습/2024 new/230727_20mm_C0 1.pts\", skiprows=1)\n",
    "\n",
    "# 데이터 전처리를 수행합니다\n",
    "# 예: 아웃라이어 제거, 필터링, 등등\n",
    "\n",
    "# RANSAC 등을 사용하여 평면을 검출합니다\n",
    "ransac = RANSACRegressor()\n",
    "ransac.fit(points[:, :2], points[:, 2])  # x, y 좌표를 기반으로 z 좌표를 학습\n",
    "\n",
    "# 클러스터링을 수행하여 각 벽돌을 구분합니다\n",
    "dbscan = DBSCAN(eps=0.05, min_samples=10)\n",
    "clusters = dbscan.fit_predict(points)\n",
    "\n",
    "# 각 클러스터(벽돌)의 중심점을 계산합니다\n",
    "centers = []\n",
    "for label in set(clusters):\n",
    "    if label != -1:  # -1은 노이즈를 나타냅니다\n",
    "        center = points[clusters == label].mean(axis=0)\n",
    "        centers.append(center)\n",
    "\n",
    "# 두 클러스터(벽돌)의 중심점 사이의 거리를 계산합니다\n",
    "distance = np.linalg.norm(centers[0] - centers[1])  # 이 부분은 실제 상황에 맞게 조정 필요\n",
    "\n",
    "# 결과를 출력합니다\n",
    "print(\"이격 거리:\", distance)\n"
   ]
  },
  {
   "cell_type": "code",
   "execution_count": 8,
   "id": "021687e6-ea06-4fc1-bdcb-de33aed72cbf",
   "metadata": {},
   "outputs": [
    {
     "name": "stdout",
     "output_type": "stream",
     "text": [
      "The minimum distance between the two planes is: 0.32229319474598356 units\n",
      "[Open3D WARNING] GLFW Error: WGL: Failed to make context current: 요청한 변환 작업을 지원할 수 없습니다. \n"
     ]
    },
    {
     "data": {
      "text/plain": [
       "True"
      ]
     },
     "execution_count": 8,
     "metadata": {},
     "output_type": "execute_result"
    }
   ],
   "source": [
    "import numpy as np\n",
    "import open3d as o3d\n",
    "\n",
    "# 데이터 로딩\n",
    "data = np.loadtxt(\"C:/Users/rjhyu/파이썬 연습/2024 new/230727_20mm_45,60-2.txt\")\n",
    "\n",
    "# Open3D PointCloud 객체 생성\n",
    "pcd = o3d.geometry.PointCloud()\n",
    "pcd.points = o3d.utility.Vector3dVector(data[:,:3])  # x, y, z 좌표 추정\n",
    "\n",
    "# 필요한 처리 수행 (예: RANSAC을 사용한 평면 검출 등)\n",
    "# RANSAC을 사용하여 첫 번째 평면을 찾습니다.\n",
    "plane1_model, inliers1 = pcd.segment_plane(distance_threshold=0.01, ransac_n=3, num_iterations=1000)\n",
    "inlier_cloud1 = pcd.select_by_index(inliers1)\n",
    "\n",
    "# 첫 번째 평면의 인라이어를 제거합니다.\n",
    "outlier_cloud = pcd.select_by_index(inliers1, invert=True)\n",
    "\n",
    "# RANSAC을 사용하여 두 번째 평면을 찾습니다.\n",
    "plane2_model, inliers2 = outlier_cloud.segment_plane(distance_threshold=0.01, ransac_n=3, num_iterations=1000)\n",
    "inlier_cloud2 = outlier_cloud.select_by_index(inliers2)\n",
    "\n",
    "# 두 평면 사이의 최소 거리를 계산합니다.\n",
    "distance = calculate_distance(plane1_model, plane2_model)\n",
    "print(f\"The minimum distance between the two planes is: {distance} units\")\n",
    "\n",
    "# 시각화\n",
    "inlier_cloud1.paint_uniform_color([1.0, 0, 0])  # 첫 번째 평면은 빨간색\n",
    "inlier_cloud2.paint_uniform_color([0, 1.0, 0])  # 두 번째 평면은 초록색\n",
    "o3d.visualization.draw_geometries([inlier_cloud1, inlier_cloud2])\n",
    "\n",
    "# 계산된 거리와 포인트 클라우드를 저장할 파일의 경로를 설정합니다.\n",
    "distance_file_path = \"C:/Users/rjhyu/파이썬 연습/2024 new/calculated_distance.txt\"\n",
    "inlier_cloud1_path = \"C:/Users/rjhyu/파이썬 연습/2024 new/inlier_cloud1.pts\"\n",
    "inlier_cloud2_path = \"C:/Users/rjhyu/파이썬 연습/2024 new/inlier_cloud2.pts\"\n",
    "\n",
    "# 계산된 거리를 텍스트 파일로 저장합니다.\n",
    "with open(distance_file_path, \"w\") as file:\n",
    "    file.write(f\"The minimum distance between the two planes is: {distance} units\\n\")\n",
    "\n",
    "# 포인트 클라우드(inliers)를 파일로 저장합니다.\n",
    "o3d.io.write_point_cloud(inlier_cloud1_path, inlier_cloud1)\n",
    "o3d.io.write_point_cloud(inlier_cloud2_path, inlier_cloud2)"
   ]
  },
  {
   "cell_type": "code",
   "execution_count": null,
   "id": "dc4c956c-1c47-493c-b92d-ab04a3205542",
   "metadata": {},
   "outputs": [],
   "source": []
  }
 ],
 "metadata": {
  "kernelspec": {
   "display_name": "open3d_kernel",
   "language": "python",
   "name": "open3d_env"
  },
  "language_info": {
   "codemirror_mode": {
    "name": "ipython",
    "version": 3
   },
   "file_extension": ".py",
   "mimetype": "text/x-python",
   "name": "python",
   "nbconvert_exporter": "python",
   "pygments_lexer": "ipython3",
   "version": "3.9.18"
  }
 },
 "nbformat": 4,
 "nbformat_minor": 5
}
