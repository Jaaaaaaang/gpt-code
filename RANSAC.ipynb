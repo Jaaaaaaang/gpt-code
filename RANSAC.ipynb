{
 "cells": [
  {
   "cell_type": "code",
   "execution_count": 1,
   "id": "fb6c1b28-1b4d-4075-b70b-60c143f59a5f",
   "metadata": {
    "tags": []
   },
   "outputs": [],
   "source": [
    "from sklearn.linear_model import RANSACRegressor\n"
   ]
  },
  {
   "cell_type": "code",
   "execution_count": 12,
   "id": "83fdadca-bf54-4a33-b152-8a456b5c4fff",
   "metadata": {
    "tags": []
   },
   "outputs": [
    {
     "name": "stdout",
     "output_type": "stream",
     "text": [
      "두 평면은 같거나 거의 동일한 높이에 있습니다.\n"
     ]
    }
   ],
   "source": [
    "import numpy as np\n",
    "import open3d as o3d\n",
    "\n",
    "# 파일 경로 설정\n",
    "file_path = \"C:\\\\Users\\\\rjhyu\\\\파이썬 연습\\\\2024 new\\\\텍스트 파일\\\\230316C_15mm0deg-20개.txt\"\n",
    "# .txt 파일을 NumPy 배열로 로드\n",
    "# delimiter는 파일에 따라 조정할 수 있습니다 (공백, 탭, 쉼표 등)\n",
    "data = np.loadtxt(file_path, delimiter=' ')  # 공백으로 구분된 경우\n",
    "\n",
    "# Open3D 포인트 클라우드 객체 생성\n",
    "pcd = o3d.geometry.PointCloud()\n",
    "pcd.points = o3d.utility.Vector3dVector(data[:, :3])  # x, y, z 좌표 사용\n",
    "\n",
    "# 레이저 스캔 데이터에서 노이즈를 줄이기 위한 사전 처리\n",
    "# 예: 다운샘플링, 이상치 제거 등\n",
    "pcd_down = pcd.voxel_down_sample(voxel_size=0.02)  # 다운샘플링을 위한 예시, voxel_size는 데이터에 따라 조정\n",
    "\n",
    "# RANSAC을 사용하여 첫 번째 평면 검출\n",
    "plane1_model, inliers1 = pcd_down.segment_plane(distance_threshold=0.01, ransac_n=3, num_iterations=1000)\n",
    "inlier_cloud1 = pcd_down.select_by_index(inliers1)\n",
    "\n",
    "# 첫 번째 평면에 속하지 않는 데이터 필터링\n",
    "outlier_cloud = pcd_down.select_by_index(inliers1, invert=True)\n",
    "\n",
    "# RANSAC을 사용하여 두 번째 평면 검출\n",
    "plane2_model, inliers2 = outlier_cloud.segment_plane(distance_threshold=0.01, ransac_n=3, num_iterations=1000)\n",
    "inlier_cloud2 = outlier_cloud.select_by_index(inliers2)\n",
    "\n",
    "# 첫 번째 및 두 번째 평면의 평균 높이(가정: z축이 높이) 계산\n",
    "avg_height1 = np.mean(np.asarray(inlier_cloud1.points)[:,2])\n",
    "avg_height2 = np.mean(np.asarray(inlier_cloud2.points)[:,2])\n",
    "\n",
    "# 두 평면의 높이 차이 계산\n",
    "height_difference = abs(avg_height1 - avg_height2)\n",
    "\n",
    "# 높이 차이가 작다면, 두 평면은 동일한 높이에 있다고 간주\n",
    "if height_difference < 0.05:  # 0.05는 임의의 임계값이며, 필요에 따라 조정\n",
    "    print(\"두 평면은 같거나 거의 동일한 높이에 있습니다.\")\n",
    "else:\n",
    "    print(\"두 평면은 다른 높이에 있습니다.\")\n",
    "\n",
    "# 결과 시각화\n",
    "inlier_cloud1.paint_uniform_color([1.0, 0, 0])  # 첫 번째 평면은 빨간색\n",
    "inlier_cloud2.paint_uniform_color([0, 1.0, 0])  # 두 번째 평면은 초록색\n",
    "o3d.visualization.draw_geometries([inlier_cloud1, inlier_cloud2])\n"
   ]
  },
  {
   "cell_type": "code",
   "execution_count": 10,
   "id": "b1f01dd1-182e-4954-b321-421ef3a5664c",
   "metadata": {
    "tags": []
   },
   "outputs": [],
   "source": [
    "import numpy as np\n",
    "import open3d as o3d\n",
    "\n",
    "# 파일 경로 설정\n",
    "file_path = \"C:\\\\Users\\\\rjhyu\\\\파이썬 연습\\\\2024 new\\\\텍스트 파일\\\\230316C_15mm0deg-20개.txt\"\n",
    "\n",
    "# .txt 파일을 NumPy 배열로 로드\n",
    "data = np.loadtxt(file_path, delimiter=' ')  # 공백으로 구분된 경우\n",
    "\n",
    "# Open3D 포인트 클라우드 객체 생성\n",
    "pcd = o3d.geometry.PointCloud()\n",
    "pcd.points = o3d.utility.Vector3dVector(data[:, :3])  # x, y, z 좌표 사용\n",
    "\n",
    "# 관심 있는 영역(ROI) 정의 (예: x, y, z 좌표의 특정 범위)\n",
    "x_min, x_max = -1, 1  # 이 값을 실제 관심 영역에 맞게 조정하세요.\n",
    "y_min, y_max = -1, 1  # 이 값을 실제 관심 영역에 맞게 조정하세요.\n",
    "z_min, z_max = -1, 1  # 이 값을 실제 관심 영역에 맞게 조정하세요.\n",
    "\n",
    "# ROI에 해당하는 데이터만 필터링\n",
    "points = np.asarray(pcd.points)\n",
    "roi_indices = np.where(\n",
    "    (points[:, 0] >= x_min) & (points[:, 0] <= x_max) & \n",
    "    (points[:, 1] >= y_min) & (points[:, 1] <= y_max) & \n",
    "    (points[:, 2] >= z_min) & (points[:, 2] <= z_max)\n",
    ")[0]\n",
    "roi_pcd = pcd.select_by_index(roi_indices)\n",
    "\n",
    "# 필터링된 데이터에 대해 다운샘플링 적용\n",
    "down_pcd = roi_pcd.voxel_down_sample(voxel_size=0.02)  # 다운샘플링을 위한 예시\n",
    "\n",
    "# 다운샘플링된 데이터와 원본 데이터의 나머지 부분을 병합\n",
    "remaining_pcd = pcd.select_by_index(roi_indices, invert=True)\n",
    "merged_pcd = down_pcd + remaining_pcd\n",
    "\n",
    "# 결과 시각화\n",
    "o3d.visualization.draw_geometries([merged_pcd])\n"
   ]
  },
  {
   "cell_type": "code",
   "execution_count": 16,
   "id": "9a962d57-5dc9-473b-9235-01e80f213b13",
   "metadata": {
    "tags": []
   },
   "outputs": [],
   "source": [
    "import numpy as np\n",
    "import open3d as o3d\n",
    "\n",
    "# 파일 로드 및 포인트 클라우드 생성\n",
    "file_path = \"C:\\\\Users\\\\rjhyu\\\\파이썬 연습\\\\for txt file\\\\row data\\\\23.03.17 Cross 다시 측정\\\\23.03.17 Cross 다시 측정\\\\C_15mm\\\\15mm0deg\\\\230316C_15mm0deg-20개.txt\"  # 파일 경로 설정\n",
    "data = np.loadtxt(file_path, delimiter=' ')  # 공백으로 구분된 경우\n",
    "pcd = o3d.geometry.PointCloud()\n",
    "pcd.points = o3d.utility.Vector3dVector(data[:, :3])  # x, y, z 좌표 사용\n",
    "\n",
    "# y 값이 0.049부터 0.051 사이에 있는 데이터 선택\n",
    "indices = np.where((np.asarray(pcd.points)[:, 1] >= 0.049) & (np.asarray(pcd.points)[:, 1] <= 0.051))[0]\n",
    "roi_pcd = pcd.select_by_index(indices)\n",
    "\n",
    "# 노이즈 제거 (예: 다운샘플링)\n",
    "roi_pcd_down = roi_pcd.voxel_down_sample(voxel_size=0.02)\n",
    "\n",
    "# 노이즈가 제거된 포인트 클라우드와 나머지 데이터 결합\n",
    "rest_pcd = pcd.select_by_index(indices, invert=True)\n",
    "combined_pcd = rest_pcd + roi_pcd_down\n",
    "\n",
    "# 결과 시각화\n",
    "o3d.visualization.draw_geometries([combined_pcd])\n"
   ]
  },
  {
   "cell_type": "code",
   "execution_count": 4,
   "id": "3f91ad03-acb0-4500-b5d9-08a92c60c61f",
   "metadata": {
    "tags": []
   },
   "outputs": [
    {
     "ename": "ModuleNotFoundError",
     "evalue": "No module named 'pandas'",
     "output_type": "error",
     "traceback": [
      "\u001b[1;31m---------------------------------------------------------------------------\u001b[0m",
      "\u001b[1;31mModuleNotFoundError\u001b[0m                       Traceback (most recent call last)",
      "Cell \u001b[1;32mIn[4], line 1\u001b[0m\n\u001b[1;32m----> 1\u001b[0m \u001b[38;5;28;01mimport\u001b[39;00m \u001b[38;5;21;01mpandas\u001b[39;00m \u001b[38;5;28;01mas\u001b[39;00m \u001b[38;5;21;01mpd\u001b[39;00m\n\u001b[0;32m      2\u001b[0m \u001b[38;5;28;01mimport\u001b[39;00m \u001b[38;5;21;01mopen3d\u001b[39;00m \u001b[38;5;28;01mas\u001b[39;00m \u001b[38;5;21;01mo3d\u001b[39;00m\n\u001b[0;32m      3\u001b[0m \u001b[38;5;28;01mimport\u001b[39;00m \u001b[38;5;21;01mnumpy\u001b[39;00m \u001b[38;5;28;01mas\u001b[39;00m \u001b[38;5;21;01mnp\u001b[39;00m\n",
      "\u001b[1;31mModuleNotFoundError\u001b[0m: No module named 'pandas'"
     ]
    }
   ],
   "source": [
    "import pandas as pd\n",
    "import open3d as o3d\n",
    "import numpy as np\n",
    "\n",
    "# Define the path to your .txt file\n",
    "file_path = 'C:/Users/rjhyu/파이썬 연습/23.12.09 오류 원인 찾기/C15mm00deg.txt'\n",
    "\n",
    "# Read the file and extract the x, y, z values\n",
    "data = []\n",
    "with open(file_path, 'r') as file:\n",
    "    for line in file:\n",
    "        values = line.strip().split()  # Split the line into individual values\n",
    "        if len(values) >= 3:\n",
    "            try:\n",
    "                x, y, z = float(values[0]), float(values[1]), float(values[2])  # Extract x, y, z\n",
    "                data.append([x, y, z])\n",
    "            except ValueError:\n",
    "                # Skip lines that cannot be converted to floats\n",
    "                continue\n",
    "\n",
    "# Create a DataFrame from the extracted data\n",
    "df = pd.DataFrame(data, columns=['x', 'y', 'z'])\n",
    "\n",
    "# Convert DataFrame to Open3D PointCloud\n",
    "pcd = o3d.geometry.PointCloud()\n",
    "pcd.points = o3d.utility.Vector3dVector(df[['x', 'y', 'z']].values)\n",
    "\n",
    "# Apply RANSAC to detect the two planes\n",
    "distance_threshold = 0.01\n",
    "ransac_n = 3\n",
    "num_iterations = 1000\n",
    "\n",
    "# Detect the first plane\n",
    "plane1_model, inliers1 = pcd.segment_plane(distance_threshold, ransac_n, num_iterations)\n",
    "inlier_cloud1 = pcd.select_by_index(inliers1)\n",
    "\n",
    "# Detect the second plane\n",
    "inlier_cloud1.paint_uniform_color([1, 0, 0])  # Color the first plane in red\n",
    "outlier_cloud = pcd.select_by_index(inliers1, invert=True)\n",
    "plane2_model, inliers2 = outlier_cloud.segment_plane(distance_threshold, ransac_n, num_iterations)\n",
    "inlier_cloud2 = outlier_cloud.select_by_index(inliers2)\n",
    "inlier_cloud2.paint_uniform_color([0, 1, 0])  # Color the second plane in green\n",
    "\n",
    "# Calculate the distance between the two planes\n",
    "avg_height1 = np.mean(np.asarray(inlier_cloud1.points)[:, 2])\n",
    "avg_height2 = np.mean(np.asarray(inlier_cloud2.points)[:, 2])\n",
    "distance_between_planes = abs(avg_height1 - avg_height2)\n",
    "\n",
    "print(f\"Distance between the two planes: {distance_between_planes} units\")\n",
    "\n",
    "# Visualize the two planes\n",
    "o3d.visualization.draw_geometries([inlier_cloud1, inlier_cloud2])\n"
   ]
  },
  {
   "cell_type": "code",
   "execution_count": null,
   "id": "17d54f82-417f-402d-8075-0f5534fae107",
   "metadata": {},
   "outputs": [],
   "source": []
  }
 ],
 "metadata": {
  "kernelspec": {
   "display_name": "open3d_kernel",
   "language": "python",
   "name": "open3d_env"
  },
  "language_info": {
   "codemirror_mode": {
    "name": "ipython",
    "version": 3
   },
   "file_extension": ".py",
   "mimetype": "text/x-python",
   "name": "python",
   "nbconvert_exporter": "python",
   "pygments_lexer": "ipython3",
   "version": "3.9.18"
  }
 },
 "nbformat": 4,
 "nbformat_minor": 5
}
