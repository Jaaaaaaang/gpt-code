{
 "cells": [
  {
   "cell_type": "code",
   "execution_count": 2,
   "id": "c1ba0f53-03e7-41b0-b62c-df5333d45d54",
   "metadata": {
    "tags": []
   },
   "outputs": [
    {
     "name": "stdout",
     "output_type": "stream",
     "text": [
      "시트 이름: ['NC15mC0deg-(1)', '15mC0deg-(2)', '15mC0deg-(3)', '15mC0deg-(4)', '15mC0deg-(5)', '15mC0deg-(6)', '15mC0deg-(7)', '15mC0deg-(8)', '15mC0deg-(9)', '15mC0deg-(10)', '15mC0deg-(11)', '15mC0deg-(12)', '15mC0deg-(13)', '15mC0deg-(14)', '15mC0deg-(15)', '15mC0deg-(16)', '15mC0deg-(17)', '15mC0deg-(18)', '15mC0deg-(19)', 'NC15mC0deg-(20)']\n",
      "데이터 통합 완료.\n"
     ]
    }
   ],
   "source": [
    "import pandas as pd\n",
    "\n",
    "# 엑셀 파일의 경로를 지정하세요\n",
    "file_path = 'C:/Users/rjhyu/파이썬 연습/fulldata/C15mm00deg.xlsx'\n",
    "\n",
    "# 엑셀 파일 로드\n",
    "xls = pd.ExcelFile(file_path)\n",
    "\n",
    "# 필요한 경우 시트 이름 확인\n",
    "sheet_names = xls.sheet_names  # 엑셀 파일에 있는 모든 시트의 이름을 가져옵니다.\n",
    "print(f\"시트 이름: {sheet_names}\")  # 선택 사항: 시트의 이름을 출력합니다.\n",
    "\n",
    "# 모든 결합된 데이터를 보관할 빈 DataFrame\n",
    "all_data = pd.DataFrame()\n",
    "\n",
    "# 시트 이름을 반복하며 각 시트를 로드하고 'all_data' DataFrame에 데이터 연결\n",
    "for sheet in sheet_names:\n",
    "    df = pd.read_excel(xls, sheet)\n",
    "    \n",
    "    # 데이터 열이 'X', 'Y', 'Z'라고 가정합니다.\n",
    "    # 필요한 열이 있는지 확인하여 오류를 방지합니다.\n",
    "    if 'X' in df.columns and 'Y' in df.columns and 'Z' in df.columns:\n",
    "        # 현재 시트에서 특정 열 (X, Y, Z) 추출\n",
    "        current_sheet_data = df[['X', 'Y', 'Z']]\n",
    "        \n",
    "        # 현재 시트의 데이터를 결합 DataFrame에 추가\n",
    "        all_data = pd.concat([all_data, current_sheet_data], ignore_index=True)\n",
    "    else:\n",
    "        print(f\"시트 '{sheet}'에 필요한 열이 없습니다.\")\n",
    "\n",
    "# 이제 'all_data'에는 모든 시트의 X, Y, Z 데이터가 들어 있습니다. 다음으로, 이 데이터를 새 시트/파일에 저장합니다.\n",
    "\n",
    "# 같은 파일에 저장할 수도 있고 새 파일에 저장할 수도 있습니다. 두 가지 방법은 다음과 같습니다:\n",
    "\n",
    "# 같은 파일에 저장하려면 다음과 같이합니다:\n",
    "with pd.ExcelWriter(file_path, engine='openpyxl', mode='a') as writer:\n",
    "    all_data.to_excel(writer, index=False, sheet_name='모든 데이터 결합')\n",
    "\n",
    "# 새 파일에 저장하려면 다음과 같이합니다:\n",
    "# all_data.to_excel('new_excel_file.xlsx', index=False, sheet_name='모든 데이터 결합')\n",
    "\n",
    "print(\"데이터 통합 완료.\")\n"
   ]
  },
  {
   "cell_type": "code",
   "execution_count": 2,
   "id": "4de90c40-081c-4d68-9b47-a7f945418450",
   "metadata": {},
   "outputs": [
    {
     "name": "stdout",
     "output_type": "stream",
     "text": [
      "데이터 통합 및 저장 완료.\n"
     ]
    }
   ],
   "source": [
    "import pandas as pd\n",
    "\n",
    "# 엑셀 파일의 경로를 지정하세요\n",
    "file_path = 'C:/Users/rjhyu/파이썬 연습/fulldata/C20mm10deg.xlsx'\n",
    "\n",
    "# 엑셀 파일 로드\n",
    "xls = pd.ExcelFile(file_path)\n",
    "\n",
    "# 필요한 경우 시트 이름 확인\n",
    "sheet_names = xls.sheet_names  # 엑셀 파일에 있는 모든 시트의 이름을 가져옵니다.\n",
    "\n",
    "# 모든 결합된 데이터를 보관할 빈 DataFrame\n",
    "all_data = pd.DataFrame()\n",
    "\n",
    "# 시트 이름을 반복하며 각 시트를 로드하고 'all_data' DataFrame에 데이터 연결\n",
    "for sheet in sheet_names:\n",
    "    df = pd.read_excel(xls, sheet)\n",
    "    \n",
    "    # 데이터 열이 'X', 'Y', 'Z'라고 가정합니다.\n",
    "    # 필요한 열이 있는지 확인하여 오류를 방지합니다.\n",
    "    if 'X' in df.columns and 'Y' in df.columns and 'Z' in df.columns:\n",
    "        # 현재 시트에서 특정 열 (X, Y, Z) 추출\n",
    "        current_sheet_data = df[['X', 'Y', 'Z']]\n",
    "        \n",
    "        # 현재 시트의 데이터를 결합 DataFrame에 추가\n",
    "        all_data = pd.concat([all_data, current_sheet_data], ignore_index=True)\n",
    "    else:\n",
    "        print(f\"시트 '{sheet}'에 필요한 열이 없습니다.\")\n",
    "\n",
    "# 새 파일에 저장하려면 다음과 같이합니다.\n",
    "# 새 파일의 경로를 설정하세요.\n",
    "new_file_path = 'C:/Users/rjhyu/파이썬 연습/fulldata/combined_data.xlsx'\n",
    "all_data.to_excel(new_file_path, index=False, sheet_name='모든 데이터 결합')\n",
    "\n",
    "print(\"데이터 통합 및 저장 완료.\")\n"
   ]
  },
  {
   "cell_type": "code",
   "execution_count": 7,
   "id": "b87696f8-a383-4ae7-b5d2-5d71fb958cf4",
   "metadata": {
    "tags": []
   },
   "outputs": [
    {
     "name": "stdout",
     "output_type": "stream",
     "text": [
      "데이터 통합 및 .txt 파일로 저장 완료.\n"
     ]
    }
   ],
   "source": [
    "import pandas as pd\n",
    "\n",
    "# 엑셀 파일의 경로를 지정하세요\n",
    "file_path = 'C:/Users/rjhyu/파이썬 연습/fulldata/C15mm00deg.xlsx'\n",
    "\n",
    "# 엑셀 파일 로드\n",
    "xls = pd.ExcelFile(file_path)\n",
    "\n",
    "# 필요한 경우 시트 이름 확인\n",
    "sheet_names = xls.sheet_names\n",
    "\n",
    "# 모든 결합된 데이터를 보관할 빈 DataFrame\n",
    "all_data = pd.DataFrame()\n",
    "\n",
    "# 시트 이름을 반복하며 각 시트를 로드하고 'all_data' DataFrame에 데이터 연결\n",
    "for sheet in sheet_names:\n",
    "    df = pd.read_excel(xls, sheet)\n",
    "    \n",
    "    if 'X' in df.columns and 'Y' in df.columns and 'Z' in df.columns:\n",
    "        current_sheet_data = df[['X', 'Y', 'Z']]\n",
    "        all_data = pd.concat([all_data, current_sheet_data], ignore_index=True)\n",
    "    else:\n",
    "        print(f\"시트 '{sheet}'에 필요한 열이 없습니다.\")\n",
    "\n",
    "# .txt 파일로 저장\n",
    "# 저장할 파일의 경로를 설정하세요\n",
    "txt_file_path = 'C:/Users/rjhyu/파이썬 연습/23.12.09 오류 원인 찾기/combined_data.txt'\n",
    "all_data.to_csv(txt_file_path, index=False, header=False, sep='\\t')\n",
    "\n",
    "print(\"데이터 통합 및 .txt 파일로 저장 완료.\")\n"
   ]
  },
  {
   "cell_type": "code",
   "execution_count": null,
   "id": "a6fa8eda-16e4-4525-a40f-81c545e16c08",
   "metadata": {},
   "outputs": [],
   "source": []
  }
 ],
 "metadata": {
  "kernelspec": {
   "display_name": "Python 3 (ipykernel)",
   "language": "python",
   "name": "python3"
  },
  "language_info": {
   "codemirror_mode": {
    "name": "ipython",
    "version": 3
   },
   "file_extension": ".py",
   "mimetype": "text/x-python",
   "name": "python",
   "nbconvert_exporter": "python",
   "pygments_lexer": "ipython3",
   "version": "3.11.3"
  }
 },
 "nbformat": 4,
 "nbformat_minor": 5
}
